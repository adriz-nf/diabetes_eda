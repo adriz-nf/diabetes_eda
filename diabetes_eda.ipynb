{
 "cells": [
  {
   "cell_type": "markdown",
   "metadata": {},
   "source": [
    "## Exploratory Data Analysis of Diabetes dataset\n",
    "\n",
    "### Task Description   \n",
    "This dataset is originally from the National Institute of Diabetes and Digestive and Kidney Diseases. \n",
    "The objective of the dataset is to diagnostically predict whether a patient has diabetes, based on certain diagnostic measurements included in the dataset. Several constraints were placed on the selection of these instances from a larger database. From the data set in the (.csv) File We can find several variables, some of them are independent (several medical predictor variables) and only one target dependent variable (Outcome).\n",
    "Note: Please keep in mind that use of python is needed to showcase your skills and writing\n"
   ]
  },
  {
   "cell_type": "markdown",
   "metadata": {},
   "source": [
    "\n",
    "### Objective of this Notebook\n",
    "This notebook is an example of how to perform an EDA on a dataset with the goal of providing an example of clear and easy to understand python code. After following this notebook you will have an understanding of:\n",
    "* How python can be used to perform EDA\n",
    "* How markdown, codeblocks and code comments can be used to explain code.\n",
    "* How a hypothesis driven approach to EDA can be helpful for understanding the value of data.\n"
   ]
  },
  {
   "cell_type": "markdown",
   "metadata": {},
   "source": [
    "\n",
    "\n",
    "### Notebook Methodology\n",
    "\n",
    "This notebook will guide the reader through the initial exploration of the dataset provided with the goal of establishing the suitability of the data to be used for further analysis. We will seek to understand the potentially useful features (columns) and gain trust in the suitability of this dataset as the basis of predictive analysis. We will follow the principle of EDA as set out by John Tukey in that we will seek to \"Confirm the expected and highlight the unexpected\". Ultimately we will seek to answer the questions:\n",
    "1. Is this dataset suitable for analysis of diabetes in patients?\n",
    "2. Are there features of the dataset that are likely to be useful in the prediction of diabetes in patients?\n",
    "3. Are there problems in the dataset that should be considered when using this dataset?\n",
    "4. How should we proceed with creating a predictive model? \n",
    "\n",
    "### Notebook Description\n",
    "In order to gain confidence in the dataset and identify potential interesting features we will use the the first section of this notebooks to load the dataset and explore the size and shape of the data as well as understand the types of data each column contains. Any problems in the data, such as unexpected or missing values will be identified and dealt with. Any resulting problematic columns will be excluded. We conclude this section by making a number of hypothesis based on our initial exploration of the data. These results of the hypothesis will guide future work on this dataset.\n",
    "\n",
    "The second section will look deeper into the contents of the columns that we expect to be useful columns and allow us to confirm or reject our hypotheses from section one and ultimately help us answer the questions \"Are there features of the dataset that are likely to be useful in the prediction of diabetes in patients?\" and \"Are there problems in the dataset that should be considered when using this dataset?\". We will check the variability of the independent and dependent variables and look for correlation between the variables. This will allow us to identify potential features to be used in statistical models related that will allow us to understand the drivers of the independent variable.\n",
    "\n",
    "The final section will summarize the findings and present potential next steps  that could be taken and answer our final question of \"How should we proceed with creating a predictive model?\"."
   ]
  }
 ],
 "metadata": {
  "kernelspec": {
   "display_name": "nf_base",
   "language": "python",
   "name": "python3"
  },
  "language_info": {
   "name": "python",
   "version": "3.9.7"
  },
  "orig_nbformat": 4
 },
 "nbformat": 4,
 "nbformat_minor": 2
}
